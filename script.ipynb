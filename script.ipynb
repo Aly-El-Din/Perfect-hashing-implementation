{
 "cells": [
  {
   "cell_type": "code",
   "execution_count": 1,
   "metadata": {},
   "outputs": [],
   "source": [
    "import pandas as pd\n",
    "import numpy as np\n",
    "import glob"
   ]
  },
  {
   "cell_type": "code",
   "execution_count": 11,
   "metadata": {},
   "outputs": [
    {
     "name": "stdout",
     "output_type": "stream",
     "text": [
      "27\n",
      "27\n",
      "27\n",
      "27\n",
      "[10, 20, 30, 40, 50, 60, 70, 80, 90, 100, 200, 300, 400, 500, 600, 700, 800, 900, 1000, 2000, 3000, 4000, 5000, 6000, 7000, 8000, 9000]\n"
     ]
    }
   ],
   "source": [
    "# load the data from the csv files\n",
    "file_paths = glob.glob('O(n2) sample/data*.csv')\n",
    "\n",
    "dfs = []\n",
    "insertion_time=[]\n",
    "search_time=[]\n",
    "space=[]\n",
    "collisions=[]\n",
    "\n",
    "sample_size =[i for i in range(10,101,10)]\n",
    "for i in range(200,1001,100):\n",
    "     sample_size.append(i)\n",
    "\n",
    "for i in range(2000,10000,1000):\n",
    "     sample_size.append(i)\n",
    "\n",
    "\n",
    "for file_path in file_paths:\n",
    "    df = pd.read_csv(file_path)\n",
    "    mean_insertion_time = df['Average Time Per Insertion'].mean()\n",
    "    mean_search_time = df['Average Time Per Search'].mean()\n",
    "    mean_collisions = df['Total Collisions'].mean()\n",
    "    mean_space = df['Space Complexity'].mean()\n",
    "    \n",
    "    insertion_time.append(mean_insertion_time)\n",
    "    search_time.append(mean_search_time)\n",
    "    space.append(mean_space)\n",
    "    collisions.append(mean_collisions)    \n",
    "    dfs.append(df)\n",
    "    \n",
    "print(len(insertion_time))\n",
    "print(len(search_time))\n",
    "print(len(space))\n",
    "print(len(collisions))\n",
    "len(sample_size)\n",
    "print(sample_size)"
   ]
  },
  {
   "cell_type": "code",
   "execution_count": 12,
   "metadata": {},
   "outputs": [],
   "source": [
    "space = np.array(space)\n",
    "search_time = np.array(search_time)\n",
    "insertion_time = np.array(insertion_time)\n",
    "collisions = np.array(collisions)\n",
    "\n",
    "search_time = search_time /10**6\n",
    "insertion_time = insertion_time /10**6\n",
    "\n",
    "SPACE_AVG = space / sample_size\n",
    "SEARCH_AVG = search_time / sample_size\n",
    "INSERTION_AVG = insertion_time / sample_size\n",
    "\n",
    "mean_search_comp= np.mean(SEARCH_AVG)\n",
    "mean_insertion_comp= np.mean(INSERTION_AVG)\n",
    "mean_space_comp= np.mean(SPACE_AVG)"
   ]
  },
  {
   "cell_type": "code",
   "execution_count": 13,
   "metadata": {},
   "outputs": [],
   "source": [
    "data = pd.DataFrame({'Sample Size': sample_size, 'Average Time Per Insertion': insertion_time,\n",
    "                     'Average Time per Search':search_time ,'Space Complexity': space,'Aveage Collisions':collisions})\n",
    "data.loc[len(data)] = [np.mean(sample_size), mean_insertion_comp, mean_search_comp, mean_space_comp, np.mean(collisions)]\n",
    "# write data to excel file\n",
    "writer = pd.ExcelWriter('outputN2.xlsx')\n",
    "data.to_excel(writer)\n",
    "writer.save()"
   ]
  },
  {
   "cell_type": "code",
   "execution_count": null,
   "metadata": {},
   "outputs": [],
   "source": []
  }
 ],
 "metadata": {
  "kernelspec": {
   "display_name": "base",
   "language": "python",
   "name": "python3"
  },
  "language_info": {
   "codemirror_mode": {
    "name": "ipython",
    "version": 3
   },
   "file_extension": ".py",
   "mimetype": "text/x-python",
   "name": "python",
   "nbconvert_exporter": "python",
   "pygments_lexer": "ipython3",
   "version": "3.9.13"
  }
 },
 "nbformat": 4,
 "nbformat_minor": 2
}
