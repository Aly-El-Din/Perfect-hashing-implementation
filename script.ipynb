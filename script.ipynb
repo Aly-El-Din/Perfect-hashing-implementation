{
 "cells": [
  {
   "cell_type": "code",
   "execution_count": 41,
   "metadata": {},
   "outputs": [],
   "source": [
    "import pandas as pd\n",
    "import numpy as np\n",
    "import glob"
   ]
  },
  {
   "cell_type": "code",
   "execution_count": 35,
   "metadata": {},
   "outputs": [],
   "source": [
    "# load the data from the csv files\n",
    "file_paths = glob.glob('data*.csv')\n",
    "\n",
    "dfs = []\n",
    "time=[]\n",
    "space=[]\n",
    "sample_size =[i for i in range(1000,10000,1000)]\n",
    "\n",
    "for i in range(10000,50001,10000):\n",
    "     sample_size.append(i)\n",
    "\n",
    "for file_path in file_paths:\n",
    "    df = pd.read_csv(file_path)\n",
    "    mean_time = df['Average Time Per Insertion'].mean()\n",
    "    mean_space = df['Space Complexity'].mean()\n",
    "    time.append(mean_time)\n",
    "    space.append(mean_space)\n",
    "    \n",
    "    dfs.append(df)\n",
    "\n"
   ]
  },
  {
   "cell_type": "code",
   "execution_count": 47,
   "metadata": {},
   "outputs": [
    {
     "name": "stdout",
     "output_type": "stream",
     "text": [
      "[1000, 2000, 3000, 4000, 5000, 6000, 7000, 8000, 9000, 10000, 20000, 30000, 40000, 50000]\n",
      "[14.0, 135.2, 29.6, 391.6, 238.0, 578.4, 127.2, 886.0, 188.6, 784.4, 100.2, 124.0, 115.8, 117.6]\n",
      "[137040.8, 4844698.8, 947476.0, 14186293.2, 29991046.4, 54578168.4, 140811354.4, 117605890.8, 153683648.4, 10247888.4, 167877412.0, 178226465.2, 199302968.0, 1594178.4]\n",
      "5507.8693805128205\n"
     ]
    }
   ],
   "source": [
    "print(sample_size)\n",
    "print(time)\n",
    "print(space)\n",
    "\n",
    "av_input_size= np.mean(sample_size)\n",
    "total_av_time= np.mean(time)\n",
    "total_av_space= np.mean(space)\n",
    "print(total_av_space / av_input_size)"
   ]
  },
  {
   "cell_type": "code",
   "execution_count": 46,
   "metadata": {},
   "outputs": [],
   "source": [
    "data = pd.DataFrame({'Sample Size': sample_size, 'Average Time Per Insertion': time, 'Space Complexity': space})\n",
    "data.loc[len(data)] = ['Average', total_av_time, total_av_space]\n",
    "\n",
    "# write data to excel file\n",
    "writer = pd.ExcelWriter('outputN.xlsx')\n",
    "data.to_excel(writer)\n",
    "writer.save()"
   ]
  },
  {
   "cell_type": "code",
   "execution_count": null,
   "metadata": {},
   "outputs": [],
   "source": []
  }
 ],
 "metadata": {
  "kernelspec": {
   "display_name": "base",
   "language": "python",
   "name": "python3"
  },
  "language_info": {
   "codemirror_mode": {
    "name": "ipython",
    "version": 3
   },
   "file_extension": ".py",
   "mimetype": "text/x-python",
   "name": "python",
   "nbconvert_exporter": "python",
   "pygments_lexer": "ipython3",
   "version": "3.9.13"
  }
 },
 "nbformat": 4,
 "nbformat_minor": 2
}
